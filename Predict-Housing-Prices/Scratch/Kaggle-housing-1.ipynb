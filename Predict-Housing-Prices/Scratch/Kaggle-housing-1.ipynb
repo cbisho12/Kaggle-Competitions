{
 "cells": [
  {
   "cell_type": "markdown",
   "metadata": {
    "colab_type": "text",
    "id": "kR-4eNdK6lYS"
   },
   "source": [
    "Kaggle Competition to Predict Housing Prices\n",
    "=============\n",
    "\n",
    "Data set Downloaded from https://www.kaggle.com/c/house-prices-advanced-regression-techniques\n",
    "------------\n",
    "\n",
    "I will build a model using pandas dataframes and scikit learn to predict housing prices for the given a data set. The trained model will be used to predict the prices for the test set and this will be submitted to kaggle. \n"
   ]
  },
  {
   "cell_type": "code",
   "execution_count": 1,
   "metadata": {
    "cellView": "both",
    "colab": {
     "autoexec": {
      "startup": false,
      "wait_interval": 0
     }
    },
    "colab_type": "code",
    "collapsed": true,
    "id": "JLpLa8Jt7Vu4"
   },
   "outputs": [],
   "source": [
    "# These are all the modules we'll be using later. Make sure you can import them\n",
    "# before proceeding further.\n",
    "from __future__ import print_function\n",
    "import numpy as np\n",
    "import pandas as pd\n",
    "from sklearn import datasets, linear_model\n",
    "from sklearn.metrics import mean_squared_error, r2_score\n",
    "from sklearn.model_selection import train_test_split\n",
    "import matplotlib.pyplot as plt"
   ]
  },
  {
   "cell_type": "markdown",
   "metadata": {
    "colab_type": "text",
    "id": "1HrCK6e17WzV"
   },
   "source": [
    "First load the data from train.csv."
   ]
  },
  {
   "cell_type": "code",
   "execution_count": 2,
   "metadata": {
    "collapsed": true
   },
   "outputs": [],
   "source": [
    "type_dict = {'MSSubClass':np.dtype('S') , \n",
    "             'MSZoning':np.dtype('S'),\n",
    "             'Street':np.dtype('S'),\n",
    "             'Alley':np.dtype('S'),\n",
    "             'LotShape':np.dtype('S'),\n",
    "             'LandContour':np.dtype('S'),\n",
    "        'Utilities':np.dtype('S'),\n",
    "        'LotConfig':np.dtype('S'),\n",
    "        'LandSlope':np.dtype('S'),\n",
    "        'Neighborhood':np.dtype('S'),\n",
    "        'Condition1':np.dtype('S'),\n",
    "        'Condition2':np.dtype('S'),\n",
    "        'BldgType':np.dtype('S'),\n",
    "        'HouseStyle':np.dtype('S'),\n",
    "        'RoofStyle':np.dtype('S'),\n",
    "        'RoofMatl':np.dtype('S'),\n",
    "        'Exterior1st':np.dtype('S'),\n",
    "        'Exterior2nd':np.dtype('S'),\n",
    "        'MasVnrType':np.dtype('S'),\n",
    "        'ExterQual':np.dtype('S'),\n",
    "        'ExterCond':np.dtype('S'),\n",
    "        'Foundation':np.dtype('S'),\n",
    "        'BsmtQual':np.dtype('S'),\n",
    "        'BsmtCond':np.dtype('S'),\n",
    "        'BsmtExposure':np.dtype('S'),\n",
    "        'BsmtFinType1':np.dtype('S'),\n",
    "        'BsmtFinType2':np.dtype('S'),\n",
    "        'Heating':np.dtype('S'),\n",
    "        'HeatingQC':np.dtype('S'),\n",
    "        'CentralAir':np.dtype('S'),\n",
    "        'Electrical':np.dtype('S'),\n",
    "        'KitchenQual':np.dtype('S'),\n",
    "        'Functional':np.dtype('S'),\n",
    "        'FireplaceQu':np.dtype('S'),\n",
    "        'GarageType':np.dtype('S'),\n",
    "        'GarageFinish':np.dtype('S'),\n",
    "        'GarageQual':np.dtype('S'),\n",
    "        'GarageCond':np.dtype('S'),\n",
    "        'PavedDrive':np.dtype('S'),\n",
    "        'PoolQC':np.dtype('S'),\n",
    "        'Fence':np.dtype('S'),\n",
    "        'MiscFeature':np.dtype('S'),\n",
    "        'MoSold':np.dtype('S'),\n",
    "        'SaleType':np.dtype('S'),\n",
    "        'SaleCondition':np.dtype('S'),\n",
    "        'LotArea':np.float,\n",
    "        'YearBuilt':np.float,\n",
    "        'YearRemodAdd':np.float,\n",
    "        'BsmtFinSF1':np.float,\n",
    "        'BsmtFinSF2':np.float,\n",
    "        'BsmtUnfSF':np.float,\n",
    "        'TotalBsmtSF':np.float,\n",
    "        '1stFlrSF':np.float,\n",
    "        '2ndFlrSF':np.float,\n",
    "        'LowQualFinSF':np.float,\n",
    "        'GrLivArea':np.float,\n",
    "        'BsmtFullBath':np.float,\n",
    "        'BsmtHalfBath':np.float,\n",
    "        'FullBath':np.float,\n",
    "        'HalfBath':np.float,\n",
    "        'Bedroom':np.float,\n",
    "        'KitchenAbvGr':np.float,\n",
    "        'TotRmsAbvGrd':np.float,\n",
    "        'Fireplaces':np.float,\n",
    "        'GarageCars':np.float,\n",
    "        'GarageArea':np.float,\n",
    "        'WoodDeckSF':np.float,\n",
    "        'OpenPorchSF':np.float,\n",
    "        'EnclosedPorch':np.float,\n",
    "        '3SsnPorch':np.float,\n",
    "        'ScreenPorch':np.float,\n",
    "        'PoolArea':np.float,\n",
    "        'MiscVal':np.float,\n",
    "        'YrSold':np.int,\n",
    "        'MasVnrArea':np.dtype('S'),\n",
    "        'LotFrontage':np.dtype('S'),\n",
    "        'GarageYrBlt':np.dtype('S')}"
   ]
  },
  {
   "cell_type": "code",
   "execution_count": 3,
   "metadata": {
    "cellView": "both",
    "colab": {
     "autoexec": {
      "startup": false,
      "wait_interval": 0
     },
     "output_extras": [
      {
       "item_id": 1
      }
     ]
    },
    "colab_type": "code",
    "collapsed": true,
    "executionInfo": {
     "elapsed": 19456,
     "status": "ok",
     "timestamp": 1449847956073,
     "user": {
      "color": "",
      "displayName": "",
      "isAnonymous": false,
      "isMe": true,
      "permissionId": "",
      "photoUrl": "",
      "sessionId": "0",
      "userId": ""
     },
     "user_tz": 480
    },
    "id": "y3-cj1bpmuxc",
    "outputId": "0ddb1607-1fc4-4ddb-de28-6c7ab7fb0c33"
   },
   "outputs": [],
   "source": [
    "filename = 'train.csv'\n",
    "full_data = pd.read_csv(filename,dtype=type_dict ) "
   ]
  },
  {
   "cell_type": "code",
   "execution_count": 4,
   "metadata": {
    "collapsed": true
   },
   "outputs": [],
   "source": [
    "categ_dict = {'MSSubClass':np.dtype('S') , # NEED TO REMOVE _150 FEATURE\n",
    "             'LotShape':np.dtype('S'),\n",
    "             'LandContour':np.dtype('S'),\n",
    "        'LotConfig':np.dtype('S'),\n",
    "        'LandSlope':np.dtype('S'),\n",
    "        'Neighborhood':np.dtype('S'),\n",
    "        'BldgType':np.dtype('S'),\n",
    "        'RoofStyle':np.dtype('S'),\n",
    "        'ExterQual':np.dtype('S'),\n",
    "        'ExterCond':np.dtype('S'),\n",
    "        'Foundation':np.dtype('S'),\n",
    "        'BsmtQual':np.dtype('S'),\n",
    "        'BsmtCond':np.dtype('S'),\n",
    "        'BsmtExposure':np.dtype('S'),\n",
    "        'BsmtFinType1':np.dtype('S'),\n",
    "        'BsmtFinType2':np.dtype('S'),\n",
    "        'HeatingQC':np.dtype('S'),\n",
    "        'CentralAir':np.dtype('S'),\n",
    "        'GarageType':np.dtype('S'),\n",
    "        'GarageFinish':np.dtype('S'),\n",
    "        'GarageCond':np.dtype('S'),\n",
    "        'PavedDrive':np.dtype('S'),\n",
    "        'Fence':np.dtype('S'),\n",
    "        'MoSold':np.dtype('S'),\n",
    "#        'SaleType':np.dtype('S'),\n",
    "        'SaleCondition':np.dtype('S'),\n",
    "         'YrSold':np.dtype('S'),}"
   ]
  },
  {
   "cell_type": "code",
   "execution_count": 5,
   "metadata": {
    "collapsed": true
   },
   "outputs": [],
   "source": [
    "num_dict = {\n",
    "        'YearBuilt':np.float,\n",
    "        'YearRemodAdd':np.float,\n",
    "        'BsmtFinSF1':np.float,\n",
    "        'BsmtFinSF2':np.float,\n",
    "        'BsmtUnfSF':np.float,\n",
    "        'TotalBsmtSF':np.float,\n",
    "        '1stFlrSF':np.float,\n",
    "        '2ndFlrSF':np.float,\n",
    "        'LowQualFinSF':np.float,\n",
    "        'GrLivArea':np.float,\n",
    "        'BsmtFullBath':np.float,\n",
    "        'BsmtHalfBath':np.float,\n",
    "        'FullBath':np.float,\n",
    "        'HalfBath':np.float,\n",
    "        'BedroomAbvGr':np.float,\n",
    "        'KitchenAbvGr':np.float,\n",
    "        'TotRmsAbvGrd':np.float,\n",
    "        'Fireplaces':np.float,\n",
    "        'GarageCars':np.float,\n",
    "        'GarageArea':np.float,\n",
    "        'WoodDeckSF':np.float,\n",
    "        'OpenPorchSF':np.float,\n",
    "        'EnclosedPorch':np.float,\n",
    "        '3SsnPorch':np.float,\n",
    "        'ScreenPorch':np.float,\n",
    "        'PoolArea':np.float,\n",
    "        'MiscVal':np.float,\n",
    "        'OverallQual':np.float,\n",
    "        'OverallCond':np.float,\n",
    "        'AgeWhenSold':np.float}"
   ]
  },
  {
   "cell_type": "code",
   "execution_count": 6,
   "metadata": {
    "collapsed": true,
    "scrolled": true
   },
   "outputs": [],
   "source": [
    "mm=len(full_data['LotArea']) \n",
    "full_data['AgeWhenSold'] = full_data['YrSold']-full_data['YearBuilt']"
   ]
  },
  {
   "cell_type": "markdown",
   "metadata": {},
   "source": [
    "Add the numerical categories to New DataFrame"
   ]
  },
  {
   "cell_type": "code",
   "execution_count": 7,
   "metadata": {
    "collapsed": true
   },
   "outputs": [],
   "source": [
    "indx_dict={}\n",
    "#del flat_data1\n",
    "flat_data1=pd.DataFrame(data=0.0,index=xrange(0,mm),columns=['LotArea'] )\n",
    "flat_data1['LotArea']=full_data['LotArea']\n",
    "indx_dict['LotArea'] = 0\n",
    "for x in num_dict:\n",
    "    flat_data1[x] = full_data[x]\n",
    "i_count=np.int(1)\n",
    "for x in num_dict:\n",
    "    indx_dict[x]=i_count\n",
    "    i_count=i_count+1"
   ]
  },
  {
   "cell_type": "markdown",
   "metadata": {
    "collapsed": true,
    "scrolled": true
   },
   "source": [
    "This is where I one hot encode the categorical features"
   ]
  },
  {
   "cell_type": "code",
   "execution_count": 8,
   "metadata": {
    "collapsed": false,
    "scrolled": true
   },
   "outputs": [],
   "source": [
    "i_count=len(indx_dict)\n",
    "for x in categ_dict:\n",
    "    s=full_data[x][:]\n",
    "    c=s.unique()\n",
    "    for i in range(0,len(c)):\n",
    "        # This IF removes MSSUBCLASS_150 and nan from all features\n",
    "        if ( (str(c[i]) != 'nan') and (str(c[i])!= '150') ): \n",
    "            v = str(x) + '_' + str(c[i])\n",
    "            #print(v)\n",
    "            indx_dict[v]=i_count\n",
    "            i_count=i_count+1\n",
    "            flat_data2=pd.DataFrame(data=0.0,index=xrange(0,mm),columns=[v] )\n",
    "            flat_data2\n",
    "            for j in range(0,mm):\n",
    "                if full_data[x][j] == c[i]:\n",
    "                    flat_data2[v][j] = 1.0\n",
    "                else:\n",
    "                    flat_data2[v][j] = 0.0\n",
    "            flat_data1[v]=flat_data2\n",
    "            del flat_data2"
   ]
  },
  {
   "cell_type": "code",
   "execution_count": 9,
   "metadata": {
    "collapsed": true
   },
   "outputs": [],
   "source": [
    "def polynomial_df(df_single, x_dict, feature, degree):\n",
    "    # assume that degree >= 1\n",
    "    # and set poly_sframe['power_1'] equal to the passed feature\n",
    "    # first check if degree > 1\n",
    "    mm = len(x_dict)\n",
    "    if degree > 1:\n",
    "        # then loop over the remaining degrees:\n",
    "        # range usually starts at 0 and stops at the endpoint-1. We want it to start at 2 and stop at degree\n",
    "        for power in range(2, degree+1): \n",
    "            # first we'll give the column a name:\n",
    "            name = feature+'_p' + str(power)\n",
    "            x_dict[name]= mm + power-2\n",
    "            print (name, x_dict[name])\n",
    "            # then assign poly_sframe[name] to the appropriate power of feature\n",
    "            df_single[name] = df_single[feature].apply(lambda x: x**power)\n",
    "    return "
   ]
  },
  {
   "cell_type": "markdown",
   "metadata": {},
   "source": [
    " Plot the K-fold cross validation error amd training error for different models to check if over fitting occured. For each of these models I need to use L2 regularization. I will set the L2 penalty to be 8.0\n",
    " --"
   ]
  },
  {
   "cell_type": "code",
   "execution_count": 12,
   "metadata": {
    "collapsed": false
   },
   "outputs": [],
   "source": [
    "def run_model(train_data, train_labels, inx_dict):\n",
    "    n = len(train_data)\n",
    "    k = 20 # 10-fold cross-validation\n",
    "    k_size = int(n/k)\n",
    "    b=len(inx_dict)\n",
    "    x_train = np.zeros((n-k_size,b))\n",
    "    x_test =  np.zeros((k_size,b))\n",
    "    y_train = np.zeros(n-k_size)\n",
    "    y_test =  np.zeros(k_size)\n",
    "    train_error = np.float(0.0) # np.zeros(30)\n",
    "    l2=8.0\n",
    "\n",
    "    k_err=0.0\n",
    "    for i in range(k-1):\n",
    "        i+=1\n",
    "        start = (n*i)/k\n",
    "        end = (n*(i+1))/k-1\n",
    "        if (k > 0 ):\n",
    "            x_train[0:start-1][:] = train_data[0:start-1][:]\n",
    "            x_train[start:n-k_size][:] = train_data[end+1:n][:]\n",
    "            x_test[0:k_size][:] = train_data[start:end+1][:]\n",
    "            y_train[0:start-1] = train_labels[0:start-1]\n",
    "            y_train[start:n-k_size] = train_labels[end+1:n]\n",
    "            y_test[0:k_size] = train_labels[start:end+1]\n",
    "        else:\n",
    "            x_train[0:n-k_size][:] = train_data[k_size:n][:]\n",
    "            x_test[0:k_size][:] = train_data[0:k_size][:]\n",
    "            y_train[0:n-k_size] = train_labels[k_size:n]\n",
    "            y_test[0:k_size] = train_labels[0:k_size]\n",
    "            # Create linear regression object\n",
    "            #regr = linear_model.LinearRegression()     \n",
    "        regr = linear_model.Ridge (alpha = l2)\n",
    "        # Train the model using the training sets\n",
    "        regr.fit(x_train, y_train)\n",
    "        y_predict = regr.predict(x_test)\n",
    "        k_err += mean_squared_error(y_test, y_predict)/float(k) \n",
    "    print(k_err)\n",
    "    regr = linear_model.Ridge (alpha = l2)\n",
    "    # Train the model using the training sets\n",
    "    regr.fit(train_data, train_labels)\n",
    "    y_predict = regr.predict(train_data)\n",
    "    train_error = mean_squared_error(train_labels, y_predict)\n",
    "    print(train_error)\n",
    "    return"
   ]
  },
  {
   "cell_type": "code",
   "execution_count": 13,
   "metadata": {
    "collapsed": false,
    "scrolled": true
   },
   "outputs": [
    {
     "name": "stdout",
     "output_type": "stream",
     "text": [
      "1106724792.47\n",
      "751488326.744\n",
      "   \n",
      "LotArea_p2 188\n",
      "1128370679.67\n",
      "750974041.756\n",
      "   \n",
      "LotArea_p2 188\n",
      "LotArea_p3 189\n",
      "1251614841.52\n",
      "735964142.015\n",
      "   \n",
      "LotArea_p2 188\n",
      "LotArea_p3 189\n",
      "LotArea_p4 190\n",
      "2313560275.42\n",
      "729456600.648\n",
      "   \n"
     ]
    }
   ],
   "source": [
    "for i in xrange(1,5):\n",
    "    #del flat_data_c\n",
    "    #indx_dict_c.clear()\n",
    "    #del train_labels\n",
    "    #del train_data\n",
    "    flat_data_c = flat_data1\n",
    "    indx_dict_c = indx_dict.copy()\n",
    "    polynomial_df(flat_data_c,indx_dict_c,'LotArea',i)\n",
    "    #Creating a numpy array to input into the regression subroutine\n",
    "    a=len(full_data['LotArea'])\n",
    "    b=len(indx_dict_c)\n",
    "    train_data = np.zeros((a,b))\n",
    "    for x in indx_dict_c:\n",
    "        m=indx_dict_c[x]\n",
    "        #print(m, x)\n",
    "        train_data[:,m]=flat_data_c[x]\n",
    "    train_labels = np.zeros(a)\n",
    "    train_labels[:] = full_data['SalePrice'][:]\n",
    "    # run the given model \n",
    "    run_model(train_data,train_labels,indx_dict_c)\n",
    "    print( '   '  )"
   ]
  },
  {
   "cell_type": "markdown",
   "metadata": {
    "collapsed": true
   },
   "source": [
    "The validation error is increasing meaning that the model is already over fit\n",
    "--"
   ]
  },
  {
   "cell_type": "code",
   "execution_count": null,
   "metadata": {
    "collapsed": true
   },
   "outputs": [],
   "source": []
  }
 ],
 "metadata": {
  "colab": {
   "default_view": {},
   "name": "2_fullyconnected.ipynb",
   "provenance": [],
   "version": "0.3.2",
   "views": {}
  },
  "kernelspec": {
   "display_name": "Python 2",
   "language": "python",
   "name": "python2"
  },
  "language_info": {
   "codemirror_mode": {
    "name": "ipython",
    "version": 2
   },
   "file_extension": ".py",
   "mimetype": "text/x-python",
   "name": "python",
   "nbconvert_exporter": "python",
   "pygments_lexer": "ipython2",
   "version": "2.7.13"
  }
 },
 "nbformat": 4,
 "nbformat_minor": 1
}
