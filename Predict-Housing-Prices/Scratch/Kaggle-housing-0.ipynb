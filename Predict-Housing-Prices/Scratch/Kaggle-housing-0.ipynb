{
 "cells": [
  {
   "cell_type": "markdown",
   "metadata": {
    "colab_type": "text",
    "id": "kR-4eNdK6lYS"
   },
   "source": [
    "Kaggle Competition to Predict Housing Prices\n",
    "=============\n",
    "\n",
    "Data set Downloaded from https://www.kaggle.com/c/house-prices-advanced-regression-techniques\n",
    "------------\n",
    "\n",
    "I will build a model using tensorflow to predict housing prices for the given a data set. The trained model will be used to predict the prices for the test set and this will be submitted to kaggle. \n"
   ]
  },
  {
   "cell_type": "code",
   "execution_count": 1,
   "metadata": {
    "cellView": "both",
    "colab": {
     "autoexec": {
      "startup": false,
      "wait_interval": 0
     }
    },
    "colab_type": "code",
    "collapsed": true,
    "id": "JLpLa8Jt7Vu4"
   },
   "outputs": [],
   "source": [
    "# These are all the modules we'll be using later. Make sure you can import them\n",
    "# before proceeding further.\n",
    "from __future__ import print_function\n",
    "import numpy as np\n",
    "import pandas as pd\n",
    "from sklearn import datasets, linear_model\n",
    "from sklearn.metrics import mean_squared_error, r2_score\n",
    "from sklearn.model_selection import train_test_split\n",
    "import matplotlib.pyplot as plt"
   ]
  },
  {
   "cell_type": "markdown",
   "metadata": {
    "colab_type": "text",
    "id": "1HrCK6e17WzV"
   },
   "source": [
    "First load the data from train.csv."
   ]
  },
  {
   "cell_type": "code",
   "execution_count": 2,
   "metadata": {
    "collapsed": true
   },
   "outputs": [],
   "source": [
    "type_dict = {'MSSubClass':np.dtype('S') , \n",
    "             'MSZoning':np.dtype('S'),\n",
    "             'Street':np.dtype('S'),\n",
    "             'Alley':np.dtype('S'),\n",
    "             'LotShape':np.dtype('S'),\n",
    "             'LandContour':np.dtype('S'),\n",
    "        'Utilities':np.dtype('S'),\n",
    "        'LotConfig':np.dtype('S'),\n",
    "        'LandSlope':np.dtype('S'),\n",
    "        'Neighborhood':np.dtype('S'),\n",
    "        'Condition1':np.dtype('S'),\n",
    "        'Condition2':np.dtype('S'),\n",
    "        'BldgType':np.dtype('S'),\n",
    "        'HouseStyle':np.dtype('S'),\n",
    "        'RoofStyle':np.dtype('S'),\n",
    "        'RoofMatl':np.dtype('S'),\n",
    "        'Exterior1st':np.dtype('S'),\n",
    "        'Exterior2nd':np.dtype('S'),\n",
    "        'MasVnrType':np.dtype('S'),\n",
    "        'ExterQual':np.dtype('S'),\n",
    "        'ExterCond':np.dtype('S'),\n",
    "        'Foundation':np.dtype('S'),\n",
    "        'BsmtQual':np.dtype('S'),\n",
    "        'BsmtCond':np.dtype('S'),\n",
    "        'BsmtExposure':np.dtype('S'),\n",
    "        'BsmtFinType1':np.dtype('S'),\n",
    "        'BsmtFinType2':np.dtype('S'),\n",
    "        'Heating':np.dtype('S'),\n",
    "        'HeatingQC':np.dtype('S'),\n",
    "        'CentralAir':np.dtype('S'),\n",
    "        'Electrical':np.dtype('S'),\n",
    "        'KitchenQual':np.dtype('S'),\n",
    "        'Functional':np.dtype('S'),\n",
    "        'FireplaceQu':np.dtype('S'),\n",
    "        'GarageType':np.dtype('S'),\n",
    "        'GarageFinish':np.dtype('S'),\n",
    "        'GarageQual':np.dtype('S'),\n",
    "        'GarageCond':np.dtype('S'),\n",
    "        'PavedDrive':np.dtype('S'),\n",
    "        'PoolQC':np.dtype('S'),\n",
    "        'Fence':np.dtype('S'),\n",
    "        'MiscFeature':np.dtype('S'),\n",
    "        'MoSold':np.dtype('S'),\n",
    "        'SaleType':np.dtype('S'),\n",
    "        'SaleCondition':np.dtype('S'),\n",
    "        'LotArea':np.float,\n",
    "        'YearBuilt':np.float,\n",
    "        'YearRemodAdd':np.float,\n",
    "        'BsmtFinSF1':np.float,\n",
    "        'BsmtFinSF2':np.float,\n",
    "        'BsmtUnfSF':np.float,\n",
    "        'TotalBsmtSF':np.float,\n",
    "        '1stFlrSF':np.float,\n",
    "        '2ndFlrSF':np.float,\n",
    "        'LowQualFinSF':np.float,\n",
    "        'GrLivArea':np.float,\n",
    "        'BsmtFullBath':np.float,\n",
    "        'BsmtHalfBath':np.float,\n",
    "        'FullBath':np.float,\n",
    "        'HalfBath':np.float,\n",
    "        'Bedroom':np.float,\n",
    "        'KitchenAbvGr':np.float,\n",
    "        'TotRmsAbvGrd':np.float,\n",
    "        'Fireplaces':np.float,\n",
    "        'GarageCars':np.float,\n",
    "        'GarageArea':np.float,\n",
    "        'WoodDeckSF':np.float,\n",
    "        'OpenPorchSF':np.float,\n",
    "        'EnclosedPorch':np.float,\n",
    "        '3SsnPorch':np.float,\n",
    "        'ScreenPorch':np.float,\n",
    "        'PoolArea':np.float,\n",
    "        'MiscVal':np.float,\n",
    "        'YrSold':np.int,\n",
    "        'MasVnrArea':np.dtype('S'),\n",
    "        'LotFrontage':np.dtype('S'),\n",
    "        'GarageYrBlt':np.dtype('S')}"
   ]
  },
  {
   "cell_type": "code",
   "execution_count": 3,
   "metadata": {
    "cellView": "both",
    "colab": {
     "autoexec": {
      "startup": false,
      "wait_interval": 0
     },
     "output_extras": [
      {
       "item_id": 1
      }
     ]
    },
    "colab_type": "code",
    "collapsed": true,
    "executionInfo": {
     "elapsed": 19456,
     "status": "ok",
     "timestamp": 1449847956073,
     "user": {
      "color": "",
      "displayName": "",
      "isAnonymous": false,
      "isMe": true,
      "permissionId": "",
      "photoUrl": "",
      "sessionId": "0",
      "userId": ""
     },
     "user_tz": 480
    },
    "id": "y3-cj1bpmuxc",
    "outputId": "0ddb1607-1fc4-4ddb-de28-6c7ab7fb0c33"
   },
   "outputs": [],
   "source": [
    "filename = 'train.csv'\n",
    "full_data = pd.read_csv(filename,dtype=type_dict ) "
   ]
  },
  {
   "cell_type": "code",
   "execution_count": 4,
   "metadata": {
    "collapsed": true
   },
   "outputs": [],
   "source": [
    "categ_dict = {'MSSubClass':np.dtype('S') , \n",
    "             'MSZoning':np.dtype('S'),\n",
    "             'Street':np.dtype('S'),\n",
    "             'Alley':np.dtype('S'),\n",
    "             'LotShape':np.dtype('S'),\n",
    "             'LandContour':np.dtype('S'),\n",
    "#        'Utilities':np.dtype('S'),\n",
    "        'LotConfig':np.dtype('S'),\n",
    "        'LandSlope':np.dtype('S'),\n",
    "        'Neighborhood':np.dtype('S'),\n",
    "         #need to figure out how to  combine these\n",
    "#        'Condition1':np.dtype('S'),\n",
    "#        'Condition2':np.dtype('S'),\n",
    "        'BldgType':np.dtype('S'),\n",
    "#        'HouseStyle':np.dtype('S'),\n",
    "        'RoofStyle':np.dtype('S'),\n",
    "#        'RoofMatl':np.dtype('S'),\n",
    "#        'Exterior1st':np.dtype('S'),\n",
    "#        'Exterior2nd':np.dtype('S'),\n",
    "        'ExterQual':np.dtype('S'),\n",
    "        'ExterCond':np.dtype('S'),\n",
    "        'Foundation':np.dtype('S'),\n",
    "        'BsmtQual':np.dtype('S'),\n",
    "        'BsmtCond':np.dtype('S'),\n",
    "        'BsmtExposure':np.dtype('S'),\n",
    "        'BsmtFinType1':np.dtype('S'),\n",
    "        'BsmtFinType2':np.dtype('S'),\n",
    "#        'Heating':np.dtype('S'),\n",
    "        'HeatingQC':np.dtype('S'),\n",
    "        'CentralAir':np.dtype('S'),\n",
    "#        'Electrical':np.dtype('S'),\n",
    "#        'KitchenQual':np.dtype('S'),\n",
    "#        'Functional':np.dtype('S'),\n",
    "        'FireplaceQu':np.dtype('S'),\n",
    "        'GarageType':np.dtype('S'),\n",
    "        'GarageFinish':np.dtype('S'),\n",
    "#        'GarageQual':np.dtype('S'),\n",
    "        'GarageCond':np.dtype('S'),\n",
    "        'PavedDrive':np.dtype('S'),\n",
    "        'Fence':np.dtype('S'),\n",
    "#        'MiscFeature':np.dtype('S'),\n",
    "        'MoSold':np.dtype('S'),\n",
    "#        'SaleType':np.dtype('S'),\n",
    "        'SaleCondition':np.dtype('S'),\n",
    "         'YrSold':np.dtype('S'),}"
   ]
  },
  {
   "cell_type": "code",
   "execution_count": 5,
   "metadata": {
    "collapsed": true
   },
   "outputs": [],
   "source": [
    "num_dict = {\n",
    "        'YearBuilt':np.float,\n",
    "        'YearRemodAdd':np.float,\n",
    "        'BsmtFinSF1':np.float,\n",
    "        'BsmtFinSF2':np.float,\n",
    "        'BsmtUnfSF':np.float,\n",
    "        'TotalBsmtSF':np.float,\n",
    "        '1stFlrSF':np.float,\n",
    "        '2ndFlrSF':np.float,\n",
    "        'LowQualFinSF':np.float,\n",
    "        'GrLivArea':np.float,\n",
    "        'BsmtFullBath':np.float,\n",
    "        'BsmtHalfBath':np.float,\n",
    "        'FullBath':np.float,\n",
    "        'HalfBath':np.float,\n",
    "        'BedroomAbvGr':np.float,\n",
    "        'KitchenAbvGr':np.float,\n",
    "        'TotRmsAbvGrd':np.float,\n",
    "        'Fireplaces':np.float,\n",
    "        'GarageCars':np.float,\n",
    "        'GarageArea':np.float,\n",
    "        'WoodDeckSF':np.float,\n",
    "        'OpenPorchSF':np.float,\n",
    "        'EnclosedPorch':np.float,\n",
    "        '3SsnPorch':np.float,\n",
    "        'ScreenPorch':np.float,\n",
    "        'PoolArea':np.float,\n",
    "        'MiscVal':np.float,\n",
    "        'OverallQual':np.float,\n",
    "        'OverallCond':np.float,\n",
    "        'AgeWhenSold':np.float}"
   ]
  },
  {
   "cell_type": "code",
   "execution_count": 6,
   "metadata": {
    "collapsed": true,
    "scrolled": true
   },
   "outputs": [],
   "source": [
    "mm=len(full_data['LotArea']) \n",
    "full_data['AgeWhenSold'] = full_data['YrSold']-full_data['YearBuilt']"
   ]
  },
  {
   "cell_type": "markdown",
   "metadata": {},
   "source": [
    "Add the numerical categories to New DataFrame"
   ]
  },
  {
   "cell_type": "code",
   "execution_count": 7,
   "metadata": {
    "collapsed": true
   },
   "outputs": [],
   "source": [
    "indx_dict={}"
   ]
  },
  {
   "cell_type": "code",
   "execution_count": 8,
   "metadata": {
    "collapsed": true
   },
   "outputs": [],
   "source": [
    "#del flat_data1\n",
    "flat_data1=pd.DataFrame(data=0.0,index=xrange(0,mm),columns=['LotArea'] )\n",
    "flat_data1['LotArea']=full_data['LotArea']\n",
    "indx_dict['LotArea'] = 0\n",
    "for x in num_dict:\n",
    "    flat_data1[x] = full_data[x]\n",
    "i_count=np.int(1)\n",
    "for x in num_dict:\n",
    "    indx_dict[x]=i_count\n",
    "    i_count=i_count+1"
   ]
  },
  {
   "cell_type": "markdown",
   "metadata": {
    "collapsed": true,
    "scrolled": true
   },
   "source": [
    "a"
   ]
  },
  {
   "cell_type": "code",
   "execution_count": 9,
   "metadata": {
    "scrolled": true
   },
   "outputs": [
    {
     "name": "stdout",
     "output_type": "stream",
     "text": [
      "LotConfig_Inside\n",
      "LotConfig_FR2\n",
      "LotConfig_Corner\n",
      "LotConfig_CulDSac\n",
      "LotConfig_FR3\n",
      "GarageFinish_RFn\n",
      "GarageFinish_Unf\n",
      "GarageFinish_Fin\n",
      "GarageFinish_nan\n",
      "MoSold_2\n",
      "MoSold_5\n",
      "MoSold_9\n",
      "MoSold_12\n",
      "MoSold_10\n",
      "MoSold_8\n",
      "MoSold_11\n",
      "MoSold_4\n",
      "MoSold_1\n",
      "MoSold_7\n",
      "MoSold_3\n",
      "MoSold_6\n",
      "BsmtQual_Gd\n",
      "BsmtQual_TA\n",
      "BsmtQual_Ex\n",
      "BsmtQual_nan\n",
      "BsmtQual_Fa\n",
      "BsmtExposure_No\n",
      "BsmtExposure_Gd\n",
      "BsmtExposure_Mn\n",
      "BsmtExposure_Av\n",
      "BsmtExposure_nan\n",
      "Foundation_PConc\n",
      "Foundation_CBlock\n",
      "Foundation_BrkTil\n",
      "Foundation_Wood\n",
      "Foundation_Slab\n",
      "Foundation_Stone\n",
      "GarageType_Attchd\n",
      "GarageType_Detchd\n",
      "GarageType_BuiltIn\n",
      "GarageType_CarPort\n",
      "GarageType_nan\n",
      "GarageType_Basment\n",
      "GarageType_2Types\n",
      "BsmtCond_TA\n",
      "BsmtCond_Gd\n",
      "BsmtCond_nan\n",
      "BsmtCond_Fa\n",
      "BsmtCond_Po\n",
      "HeatingQC_Ex\n",
      "HeatingQC_Gd\n",
      "HeatingQC_TA\n",
      "HeatingQC_Fa\n",
      "HeatingQC_Po\n",
      "RoofStyle_Gable\n",
      "RoofStyle_Hip\n",
      "RoofStyle_Gambrel\n",
      "RoofStyle_Mansard\n",
      "RoofStyle_Flat\n",
      "RoofStyle_Shed\n",
      "CentralAir_Y\n",
      "CentralAir_N\n",
      "LotShape_Reg\n",
      "LotShape_IR1\n",
      "LotShape_IR2\n",
      "LotShape_IR3\n",
      "PavedDrive_Y\n",
      "PavedDrive_N\n",
      "PavedDrive_P\n",
      "LandSlope_Gtl\n",
      "LandSlope_Mod\n",
      "LandSlope_Sev\n",
      "YrSold_2008\n",
      "YrSold_2007\n",
      "YrSold_2006\n",
      "YrSold_2009\n",
      "YrSold_2010\n",
      "FireplaceQu_nan\n",
      "FireplaceQu_TA\n",
      "FireplaceQu_Gd\n",
      "FireplaceQu_Fa\n",
      "FireplaceQu_Ex\n",
      "FireplaceQu_Po\n",
      "BsmtFinType2_Unf\n",
      "BsmtFinType2_BLQ\n",
      "BsmtFinType2_nan\n",
      "BsmtFinType2_ALQ\n",
      "BsmtFinType2_Rec\n",
      "BsmtFinType2_LwQ\n",
      "BsmtFinType2_GLQ\n",
      "BsmtFinType1_GLQ\n",
      "BsmtFinType1_ALQ\n",
      "BsmtFinType1_Unf\n",
      "BsmtFinType1_Rec\n",
      "BsmtFinType1_BLQ\n",
      "BsmtFinType1_nan\n",
      "BsmtFinType1_LwQ\n",
      "GarageCond_TA\n",
      "GarageCond_Fa\n",
      "GarageCond_nan\n",
      "GarageCond_Gd\n",
      "GarageCond_Po\n",
      "GarageCond_Ex\n",
      "LandContour_Lvl\n",
      "LandContour_Bnk\n",
      "LandContour_Low\n",
      "LandContour_HLS\n",
      "Neighborhood_CollgCr\n",
      "Neighborhood_Veenker\n",
      "Neighborhood_Crawfor\n",
      "Neighborhood_NoRidge\n",
      "Neighborhood_Mitchel\n",
      "Neighborhood_Somerst\n",
      "Neighborhood_NWAmes\n",
      "Neighborhood_OldTown\n",
      "Neighborhood_BrkSide\n",
      "Neighborhood_Sawyer\n",
      "Neighborhood_NridgHt\n",
      "Neighborhood_NAmes\n",
      "Neighborhood_SawyerW\n",
      "Neighborhood_IDOTRR\n",
      "Neighborhood_MeadowV\n",
      "Neighborhood_Edwards\n",
      "Neighborhood_Timber\n",
      "Neighborhood_Gilbert\n",
      "Neighborhood_StoneBr\n",
      "Neighborhood_ClearCr\n",
      "Neighborhood_NPkVill\n",
      "Neighborhood_Blmngtn\n",
      "Neighborhood_BrDale\n",
      "Neighborhood_SWISU\n",
      "Neighborhood_Blueste\n",
      "Fence_nan\n",
      "Fence_MnPrv\n",
      "Fence_GdWo\n",
      "Fence_GdPrv\n",
      "Fence_MnWw\n",
      "SaleCondition_Normal\n",
      "SaleCondition_Abnorml\n",
      "SaleCondition_Partial\n",
      "SaleCondition_AdjLand\n",
      "SaleCondition_Alloca\n",
      "SaleCondition_Family\n",
      "BldgType_1Fam\n",
      "BldgType_2fmCon\n",
      "BldgType_Duplex\n",
      "BldgType_TwnhsE\n",
      "BldgType_Twnhs\n",
      "ExterQual_Gd\n",
      "ExterQual_TA\n",
      "ExterQual_Ex\n",
      "ExterQual_Fa\n",
      "Alley_nan\n",
      "Alley_Grvl\n",
      "Alley_Pave\n",
      "Street_Pave\n",
      "Street_Grvl\n",
      "ExterCond_TA\n",
      "ExterCond_Gd\n",
      "ExterCond_Fa\n",
      "ExterCond_Po\n",
      "ExterCond_Ex\n"
     ]
    }
   ],
   "source": [
    "i_count=len(indx_dict)\n",
    "for x in categ_dict:\n",
    "    s=full_data[x][:]\n",
    "    c=s.unique()\n",
    "    for i in range(0,len(c)):\n",
    "        v = str(x) + '_' + str(c[i])\n",
    "        print(v)\n",
    "        indx_dict[v]=i_count\n",
    "        i_count=i_count+1\n",
    "        flat_data2=pd.DataFrame(data=0.0,index=xrange(0,mm),columns=[v] )\n",
    "        flat_data2\n",
    "        for j in range(0,mm):\n",
    "            if full_data[x][j] == c[i]:\n",
    "                flat_data2[v][j] = 1.0\n",
    "            else:\n",
    "                flat_data2[v][j] = 0.0\n",
    "        flat_data1[v]=flat_data2\n",
    "        del flat_data2\n"
   ]
  },
  {
   "cell_type": "markdown",
   "metadata": {
    "colab_type": "text",
    "id": "KQcL4uqISHjP"
   },
   "source": [
    "a"
   ]
  },
  {
   "cell_type": "code",
   "execution_count": 10,
   "metadata": {
    "collapsed": true
   },
   "outputs": [],
   "source": [
    "a=len(full_data['LotArea'])\n",
    "b=len(indx_dict)\n",
    "train_data = np.zeros((a,b))\n",
    "for x in indx_dict:\n",
    "    m=indx_dict[x]\n",
    "    train_data[:,m]=flat_data1[x]"
   ]
  },
  {
   "cell_type": "code",
   "execution_count": 11,
   "metadata": {
    "collapsed": true
   },
   "outputs": [],
   "source": [
    "train_labels = np.zeros(a)\n",
    "train_labels[:] = full_data['SalePrice'][:]"
   ]
  },
  {
   "cell_type": "markdown",
   "metadata": {},
   "source": [
    "Need to use cross validation to find the most important features using L1 regularization.\n",
    "---\n"
   ]
  },
  {
   "cell_type": "code",
   "execution_count": 12,
   "metadata": {},
   "outputs": [
    {
     "name": "stdout",
     "output_type": "stream",
     "text": [
      "0 (0, 145)\n",
      "1 (146, 291)\n",
      "2 (292, 437)\n",
      "3 (438, 583)\n",
      "4 (584, 729)\n",
      "5 (730, 875)\n",
      "6 (876, 1021)\n",
      "7 (1022, 1167)\n",
      "8 (1168, 1313)\n",
      "9 (1314, 1459)\n"
     ]
    }
   ],
   "source": [
    "n = len(train_data)\n",
    "k = 10 # 10-fold cross-validation\n",
    "\n",
    "for i in range(k):\n",
    "    start = (n*i)/k\n",
    "    end = (n*(i+1))/k-1\n",
    "    print (i, (start, end))"
   ]
  },
  {
   "cell_type": "code",
   "execution_count": 13,
   "metadata": {},
   "outputs": [
    {
     "name": "stdout",
     "output_type": "stream",
     "text": [
      "[  1.00000000e-03   2.32995181e-03   5.42867544e-03   1.26485522e-02\n",
      "   2.94705170e-02   6.86648845e-02   1.59985872e-01   3.72759372e-01\n",
      "   8.68511374e-01   2.02358965e+00   4.71486636e+00   1.09854114e+01\n",
      "   2.55954792e+01   5.96362332e+01   1.38949549e+02   3.23745754e+02\n",
      "   7.54312006e+02   1.75751062e+03   4.09491506e+03   9.54095476e+03\n",
      "   2.22299648e+04   5.17947468e+04   1.20679264e+05   2.81176870e+05\n",
      "   6.55128557e+05   1.52641797e+06   3.55648031e+06   8.28642773e+06\n",
      "   1.93069773e+07   4.49843267e+07   1.04811313e+08   2.44205309e+08\n",
      "   5.68986603e+08   1.32571137e+09   3.08884360e+09   7.19685673e+09\n",
      "   1.67683294e+10   3.90693994e+10   9.10298178e+10   2.12095089e+11\n",
      "   4.94171336e+11   1.15139540e+12   2.68269580e+12   6.25055193e+12\n",
      "   1.45634848e+13   3.39322177e+13   7.90604321e+13   1.84206997e+14\n",
      "   4.29193426e+14   1.00000000e+15]\n"
     ]
    }
   ],
   "source": [
    "l_size = 50\n",
    "l2_list = np.logspace(-3,15, num=l_size)\n",
    "print (l2_list)"
   ]
  },
  {
   "cell_type": "code",
   "execution_count": 14,
   "metadata": {
    "scrolled": true
   },
   "outputs": [
    {
     "name": "stdout",
     "output_type": "stream",
     "text": [
      "0.001 1048431273.83\n",
      "0.00232995181052 1048340767.35\n",
      "0.00542867543932 1048218977.92\n",
      "0.0126485521686 1047949447.07\n",
      "0.0294705170255 1047383286.9\n",
      "0.0686648845004 1046281329.06\n",
      "0.159985871961 1044281069.99\n",
      "0.372759372031 1040782634.06\n",
      "0.868511373751 1034988347.2\n",
      "2.02358964773 1026635329.0\n",
      "4.71486636346 1017906563.65\n",
      "10.9854114199 1015630525.99\n",
      "25.595479227 1028663177.22\n",
      "59.6362331659 1060918697.02\n",
      "138.949549437 1110816395.96\n",
      "323.745754282 1177574692.7\n",
      "754.312006335 1267970610.69\n",
      "1757.51062485 1383359883.22\n",
      "4094.91506238 1496557791.64\n",
      "9540.9547635 1577329304.66\n",
      "22229.9648253 1623013242.23\n",
      "51794.7467923 1646731371.29\n",
      "120679.264064 1662013802.97\n",
      "281176.869797 1680856150.41\n",
      "655128.55686 1715551495.38\n",
      "1526417.96718 1775036980.37\n",
      "3556480.30622 1851550735.55\n",
      "8286427.72855 1924345754.31\n",
      "19306977.2888 1986938408.02\n",
      "44984326.6897 2054142387.64\n",
      "104811313.415 2157455296.51\n",
      "244205309.455 2387362495.0\n",
      "568986602.902 2911179250.28\n",
      "1325711365.59 3731106290.09\n",
      "3088843596.48 4531228333.74\n",
      "7196856730.01 5056454666.87\n",
      "16768329368.1 5310840821.53\n",
      "39069399370.5 5409944874.31\n",
      "91029817799.2 5476706518.2\n",
      "212095088792.0 5576638982.93\n",
      "494171336132.0 5685718816.32\n",
      "1.15139539933e+12 5764324829.21\n",
      "2.68269579528e+12 5807897659.62\n",
      "6.25055192527e+12 5828938014.58\n",
      "1.4563484775e+13 5838453130.92\n",
      "3.3932217719e+13 5842631037.64\n",
      "7.90604321091e+13 5844441897.25\n",
      "1.84206996933e+14 5845222404.47\n",
      "4.29193426013e+14 5845558003.16\n",
      "1e+15 5845702152.51\n"
     ]
    }
   ],
   "source": [
    "l=np.int(0)\n",
    "n = len(train_data)\n",
    "k = 10 # 10-fold cross-validation\n",
    "k_size = int(n/k)\n",
    "b=len(indx_dict)\n",
    "x_train = np.zeros((n-k_size,b))\n",
    "x_test =  np.zeros((k_size,b))\n",
    "y_train = np.zeros(n-k_size)\n",
    "y_test =  np.zeros(k_size)\n",
    "saved_ws =  np.zeros((b,l_size),dtype=np.int)\n",
    "saved_ws[:,:] = b+10\n",
    "error = np.zeros(50)\n",
    "j=0\n",
    "for l2 in l2_list:\n",
    "    k_err=0.0\n",
    "    for i in range(k-1):\n",
    "        i+=1\n",
    "        start = (n*i)/k\n",
    "        end = (n*(i+1))/k-1\n",
    "        if (k > 0 ):\n",
    "            x_train[0:start-1,:] = train_data[0:start-1,:]\n",
    "            x_train[start:n-k_size,:] = train_data[end+1:n,:]\n",
    "            x_test[0:k_size,:] = train_data[start:end+1,:]\n",
    "            y_train[0:start-1] = train_labels[0:start-1]\n",
    "            y_train[start:n-k_size] = train_labels[end+1:n]\n",
    "            y_test[0:k_size] = train_labels[start:end+1]\n",
    "        else:\n",
    "            x_train[0:n-k_size,:] = train_data[k_size:n,:]\n",
    "            x_test[0:k_size,:] = train_data[0:k_size,:]\n",
    "            y_train[0:n-k_size] = train_labels[k_size:n]\n",
    "            y_test[0:k_size] = train_labels[0:k_size]\n",
    "        # Create linear regression object\n",
    "        #regr = linear_model.LinearRegression()     \n",
    "        regr = linear_model.Ridge (alpha = l2)\n",
    "        # Train the model using the training sets\n",
    "        regr.fit(x_train, y_train)\n",
    "        y_predict = regr.predict(x_test)\n",
    "        k_err += mean_squared_error(y_test, y_predict)/float(k) \n",
    "    print(l2, k_err)\n",
    "#    error[j] = k_err\n",
    "    l=np.int(0)\n",
    "    for c in range(b-1):\n",
    "        if (abs(regr.coef_[c]) < 0.00001):\n",
    "            saved_ws[l,j] = c\n",
    "            l+=1\n",
    "#    saved_ws[:,j] = regr.coef_[:]\n",
    "    j+=1"
   ]
  },
  {
   "cell_type": "code",
   "execution_count": 19,
   "metadata": {
    "scrolled": false
   },
   "outputs": [
    {
     "name": "stdout",
     "output_type": "stream",
     "text": [
      "Alley_nan\n",
      "BsmtExposure_nan\n",
      "BsmtQual_nan\n",
      "BsmtCond_nan\n",
      "GarageType_nan\n",
      "FireplaceQu_nan\n",
      "GarageFinish_nan\n",
      "Fence_nan\n",
      "BsmtFinType2_GLQ\n",
      "GarageCond_nan\n",
      "BsmtFinType2_nan\n",
      "Foundation_Wood\n",
      "LotConfig_FR3\n",
      "BsmtFinType1_nan\n"
     ]
    }
   ],
   "source": [
    "rm_dict={}\n",
    "#plt.plot(saved_ws)\n",
    "#plt.yscale('log')\n",
    "#plt.xscale('log')\n",
    "#plt.ylim(0.9e9,1.2e9)\n",
    "#plt.show()\n",
    "for x in indx_dict:\n",
    "    for c in range(b-1):\n",
    "        if indx_dict[x]==saved_ws[c,34]:\n",
    "            print(x)\n",
    "            rm_dict[x]=x"
   ]
  },
  {
   "cell_type": "markdown",
   "metadata": {},
   "source": [
    "These are the least neccessary features. Most of these are the nan features that were one hot encoded. Maybe I should remove all of the nan features."
   ]
  },
  {
   "cell_type": "code",
   "execution_count": 16,
   "metadata": {},
   "outputs": [
    {
     "data": {
      "text/plain": [
       "{'Alley_nan': 'Alley_nan',\n",
       " 'BsmtCond_nan': 'BsmtCond_nan',\n",
       " 'BsmtExposure_nan': 'BsmtExposure_nan',\n",
       " 'BsmtFinType1_nan': 'BsmtFinType1_nan',\n",
       " 'BsmtFinType2_GLQ': 'BsmtFinType2_GLQ',\n",
       " 'BsmtFinType2_nan': 'BsmtFinType2_nan',\n",
       " 'BsmtQual_nan': 'BsmtQual_nan',\n",
       " 'Fence_nan': 'Fence_nan',\n",
       " 'FireplaceQu_nan': 'FireplaceQu_nan',\n",
       " 'Foundation_Wood': 'Foundation_Wood',\n",
       " 'GarageCond_nan': 'GarageCond_nan',\n",
       " 'GarageFinish_nan': 'GarageFinish_nan',\n",
       " 'GarageType_nan': 'GarageType_nan',\n",
       " 'LotConfig_FR3': 'LotConfig_FR3'}"
      ]
     },
     "execution_count": 16,
     "metadata": {},
     "output_type": "execute_result"
    }
   ],
   "source": [
    "rm_dict"
   ]
  },
  {
   "cell_type": "markdown",
   "metadata": {},
   "source": [
    " Plot the K-fold cross validation error amd training error for different models to check if over fitting occured. For each of these models I need to use L2 regularization.  \n",
    " --"
   ]
  },
  {
   "cell_type": "code",
   "execution_count": null,
   "metadata": {
    "collapsed": true
   },
   "outputs": [],
   "source": [
    "l2_list = np.linspace(1,20,num=80) #np.logspace(0, 2, num=50)\n",
    "print (l2_list)"
   ]
  },
  {
   "cell_type": "code",
   "execution_count": null,
   "metadata": {
    "collapsed": true,
    "scrolled": true
   },
   "outputs": [],
   "source": [
    "n = len(train_data)\n",
    "k = 10 # 10-fold cross-validation\n",
    "k_size = int(n/k)\n",
    "b=len(indx_dict)\n",
    "x_train = np.zeros((n-k_size,b))\n",
    "x_test =  np.zeros((k_size,b))\n",
    "y_train = np.zeros(n-k_size)\n",
    "y_test =  np.zeros(k_size)\n",
    "error = np.zeros(80)\n",
    "j=0\n",
    "for l2 in l2_list:\n",
    "    k_err=0.0\n",
    "    for i in range(k-1):\n",
    "        i+=1\n",
    "        start = (n*i)/k\n",
    "        end = (n*(i+1))/k-1\n",
    "        if (k > 0 ):\n",
    "            x_train[0:start-1][:] = train_data[0:start-1][:]\n",
    "            x_train[start:n-k_size][:] = train_data[end+1:n][:]\n",
    "            x_test[0:k_size][:] = train_data[start:end+1][:]\n",
    "            y_train[0:start-1] = train_labels[0:start-1]\n",
    "            y_train[start:n-k_size] = train_labels[end+1:n]\n",
    "            y_test[0:k_size] = train_labels[start:end+1]\n",
    "        else:\n",
    "            x_train[0:n-k_size][:] = train_data[k_size:n][:]\n",
    "            x_test[0:k_size][:] = train_data[0:k_size][:]\n",
    "            y_train[0:n-k_size] = train_labels[k_size:n]\n",
    "            y_test[0:k_size] = train_labels[0:k_size]\n",
    "        # Create linear regression object\n",
    "        #regr = linear_model.LinearRegression()     \n",
    "        #regr = linear_model.Ridge (alpha = l2)\n",
    "        regr = linear_model.Lasso(alpha = l1)\n",
    "        # Train the model using the training sets\n",
    "        regr.fit(x_train, y_train)\n",
    "        y_predict = regr.predict(x_test)\n",
    "        k_err += mean_squared_error(y_test, y_predict)/float(k) \n",
    "    print(l2, k_err)\n",
    "    error[j] = k_err\n",
    "    j+=1"
   ]
  },
  {
   "cell_type": "code",
   "execution_count": null,
   "metadata": {
    "collapsed": true,
    "scrolled": true
   },
   "outputs": [],
   "source": [
    "plt.plot(l2_list,error)\n",
    "#plt.yscale('log')\n",
    "#plt.xscale('log')\n",
    "plt.ylim(0.99e9,1.05e9)\n",
    "plt.show()"
   ]
  },
  {
   "cell_type": "markdown",
   "metadata": {},
   "source": [
    "L2 penalty should be 8.0\n",
    "---"
   ]
  },
  {
   "cell_type": "code",
   "execution_count": null,
   "metadata": {
    "collapsed": true
   },
   "outputs": [],
   "source": []
  }
 ],
 "metadata": {
  "colab": {
   "default_view": {},
   "name": "2_fullyconnected.ipynb",
   "provenance": [],
   "version": "0.3.2",
   "views": {}
  },
  "kernelspec": {
   "display_name": "Python 2",
   "language": "python",
   "name": "python2"
  },
  "language_info": {
   "codemirror_mode": {
    "name": "ipython",
    "version": 2
   },
   "file_extension": ".py",
   "mimetype": "text/x-python",
   "name": "python",
   "nbconvert_exporter": "python",
   "pygments_lexer": "ipython2",
   "version": "2.7.13"
  }
 },
 "nbformat": 4,
 "nbformat_minor": 1
}
