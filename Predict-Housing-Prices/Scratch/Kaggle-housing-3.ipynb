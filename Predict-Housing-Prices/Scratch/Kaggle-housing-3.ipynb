{
 "cells": [
  {
   "cell_type": "markdown",
   "metadata": {
    "colab_type": "text",
    "id": "kR-4eNdK6lYS"
   },
   "source": [
    "Kaggle Competition to Predict Housing Prices\n",
    "=============\n",
    "\n",
    "Data set Downloaded from https://www.kaggle.com/c/house-prices-advanced-regression-techniques\n",
    "------------\n",
    "\n",
    "I will build a model using pandas dataframes and scikit learn to predict housing prices for the given a data set. The trained model will be used to predict the prices for the test set and this will be submitted to kaggle. \n"
   ]
  },
  {
   "cell_type": "code",
   "execution_count": 1,
   "metadata": {
    "cellView": "both",
    "colab": {
     "autoexec": {
      "startup": false,
      "wait_interval": 0
     }
    },
    "colab_type": "code",
    "collapsed": true,
    "id": "JLpLa8Jt7Vu4"
   },
   "outputs": [],
   "source": [
    "# These are all the modules we'll be using later. Make sure you can import them\n",
    "# before proceeding further.\n",
    "from __future__ import print_function\n",
    "import numpy as np\n",
    "import pandas as pd\n",
    "from sklearn import datasets, linear_model\n",
    "from sklearn.metrics import mean_squared_error, r2_score\n",
    "from sklearn.model_selection import train_test_split\n",
    "import matplotlib.pyplot as plt"
   ]
  },
  {
   "cell_type": "markdown",
   "metadata": {
    "colab_type": "text",
    "id": "1HrCK6e17WzV"
   },
   "source": [
    "First load the data from train.csv."
   ]
  },
  {
   "cell_type": "code",
   "execution_count": 2,
   "metadata": {
    "collapsed": true
   },
   "outputs": [],
   "source": [
    "type_dict = {'MSSubClass':np.dtype('S') , \n",
    "             'MSZoning':np.dtype('S'),\n",
    "             'Street':np.dtype('S'),\n",
    "             'Alley':np.dtype('S'),\n",
    "             'LotShape':np.dtype('S'),\n",
    "             'LandContour':np.dtype('S'),\n",
    "        'Utilities':np.dtype('S'),\n",
    "        'LotConfig':np.dtype('S'),\n",
    "        'LandSlope':np.dtype('S'),\n",
    "        'Neighborhood':np.dtype('S'),\n",
    "        'Condition1':np.dtype('S'),\n",
    "        'Condition2':np.dtype('S'),\n",
    "        'BldgType':np.dtype('S'),\n",
    "        'HouseStyle':np.dtype('S'),\n",
    "        'RoofStyle':np.dtype('S'),\n",
    "        'RoofMatl':np.dtype('S'),\n",
    "        'Exterior1st':np.dtype('S'),\n",
    "        'Exterior2nd':np.dtype('S'),\n",
    "        'MasVnrType':np.dtype('S'),\n",
    "        'ExterQual':np.dtype('S'),\n",
    "        'ExterCond':np.dtype('S'),\n",
    "        'Foundation':np.dtype('S'),\n",
    "        'BsmtQual':np.dtype('S'),\n",
    "        'BsmtCond':np.dtype('S'),\n",
    "        'BsmtExposure':np.dtype('S'),\n",
    "        'BsmtFinType1':np.dtype('S'),\n",
    "        'BsmtFinType2':np.dtype('S'),\n",
    "        'Heating':np.dtype('S'),\n",
    "        'HeatingQC':np.dtype('S'),\n",
    "        'CentralAir':np.dtype('S'),\n",
    "        'Electrical':np.dtype('S'),\n",
    "        'KitchenQual':np.dtype('S'),\n",
    "        'Functional':np.dtype('S'),\n",
    "        'FireplaceQu':np.dtype('S'),\n",
    "        'GarageType':np.dtype('S'),\n",
    "        'GarageFinish':np.dtype('S'),\n",
    "        'GarageQual':np.dtype('S'),\n",
    "        'GarageCond':np.dtype('S'),\n",
    "        'PavedDrive':np.dtype('S'),\n",
    "        'PoolQC':np.dtype('S'),\n",
    "        'Fence':np.dtype('S'),\n",
    "        'MiscFeature':np.dtype('S'),\n",
    "        'MoSold':np.dtype('S'),\n",
    "        'SaleType':np.dtype('S'),\n",
    "        'SaleCondition':np.dtype('S'),\n",
    "        'LotArea':np.float,\n",
    "        'YearBuilt':np.float,\n",
    "        'YearRemodAdd':np.float,\n",
    "        'BsmtFinSF1':np.float,\n",
    "        'BsmtFinSF2':np.float,\n",
    "        'BsmtUnfSF':np.float,\n",
    "        'TotalBsmtSF':np.float,\n",
    "        '1stFlrSF':np.float,\n",
    "        '2ndFlrSF':np.float,\n",
    "        'LowQualFinSF':np.float,\n",
    "        'GrLivArea':np.float,\n",
    "        'BsmtFullBath':np.float,\n",
    "        'BsmtHalfBath':np.float,\n",
    "        'FullBath':np.float,\n",
    "        'HalfBath':np.float,\n",
    "        'Bedroom':np.float,\n",
    "        'KitchenAbvGr':np.float,\n",
    "        'TotRmsAbvGrd':np.float,\n",
    "        'Fireplaces':np.float,\n",
    "        'GarageCars':np.float,\n",
    "        'GarageArea':np.float,\n",
    "        'WoodDeckSF':np.float,\n",
    "        'OpenPorchSF':np.float,\n",
    "        'EnclosedPorch':np.float,\n",
    "        '3SsnPorch':np.float,\n",
    "        'ScreenPorch':np.float,\n",
    "        'PoolArea':np.float,\n",
    "        'MiscVal':np.float,\n",
    "        'YrSold':np.int,\n",
    "        'MasVnrArea':np.dtype('S'),\n",
    "        'LotFrontage':np.dtype('S'),\n",
    "        'GarageYrBlt':np.dtype('S')}"
   ]
  },
  {
   "cell_type": "code",
   "execution_count": 3,
   "metadata": {
    "cellView": "both",
    "colab": {
     "autoexec": {
      "startup": false,
      "wait_interval": 0
     },
     "output_extras": [
      {
       "item_id": 1
      }
     ]
    },
    "colab_type": "code",
    "collapsed": true,
    "executionInfo": {
     "elapsed": 19456,
     "status": "ok",
     "timestamp": 1449847956073,
     "user": {
      "color": "",
      "displayName": "",
      "isAnonymous": false,
      "isMe": true,
      "permissionId": "",
      "photoUrl": "",
      "sessionId": "0",
      "userId": ""
     },
     "user_tz": 480
    },
    "id": "y3-cj1bpmuxc",
    "outputId": "0ddb1607-1fc4-4ddb-de28-6c7ab7fb0c33"
   },
   "outputs": [],
   "source": [
    "filename = 'train.csv'\n",
    "full_data = pd.read_csv(filename,dtype=type_dict ) "
   ]
  },
  {
   "cell_type": "markdown",
   "metadata": {},
   "source": [
    "I will limit the features to about 50-75 of the most \"important\" \n",
    "---"
   ]
  },
  {
   "cell_type": "code",
   "execution_count": 4,
   "metadata": {
    "collapsed": true
   },
   "outputs": [],
   "source": [
    "categ_dict = {'MSSubClass':np.dtype('S') , # NEED TO REMOVE _150 FEATURE\n",
    "#             'LotShape':np.dtype('S'),\n",
    "#             'LandContour':np.dtype('S'),\n",
    "#        'LotConfig':np.dtype('S'),\n",
    "#        'LandSlope':np.dtype('S'),\n",
    "        'Neighborhood':np.dtype('S'),\n",
    "        'BldgType':np.dtype('S'),\n",
    "#        'RoofStyle':np.dtype('S'),\n",
    "#        'ExterQual':np.dtype('S'),\n",
    "#        'ExterCond':np.dtype('S'),\n",
    "#        'Foundation':np.dtype('S'),\n",
    "#        'BsmtQual':np.dtype('S'),\n",
    "#        'BsmtCond':np.dtype('S'),\n",
    "#        'BsmtExposure':np.dtype('S'),\n",
    "#        'BsmtFinType1':np.dtype('S'),\n",
    "#        'BsmtFinType2':np.dtype('S'),\n",
    "#        'HeatingQC':np.dtype('S'),\n",
    "#        'CentralAir':np.dtype('S'),\n",
    "#        'GarageType':np.dtype('S'),\n",
    "#        'GarageFinish':np.dtype('S'),\n",
    "#        'GarageCond':np.dtype('S'),\n",
    "#        'PavedDrive':np.dtype('S'),\n",
    "#        'Fence':np.dtype('S'),\n",
    "        'MoSold':np.dtype('S'),\n",
    "        'SaleType':np.dtype('S'),\n",
    "        'SaleCondition':np.dtype('S'),\n",
    "         'YrSold':np.dtype('S'),}"
   ]
  },
  {
   "cell_type": "code",
   "execution_count": 5,
   "metadata": {
    "collapsed": true
   },
   "outputs": [],
   "source": [
    "num_dict = {\n",
    "#        'YearBuilt':np.float,\n",
    "#        'YearRemodAdd':np.float,\n",
    "#        'BsmtFinSF1':np.float,\n",
    "#        'BsmtFinSF2':np.float,\n",
    "#        'BsmtUnfSF':np.float,\n",
    "#        'TotalBsmtSF':np.float,\n",
    "#        '1stFlrSF':np.float,\n",
    "#        '2ndFlrSF':np.float,\n",
    "#        'LowQualFinSF':np.float,\n",
    "        'GrLivArea':np.float,\n",
    "#        'BsmtFullBath':np.float,\n",
    "#        'BsmtHalfBath':np.float,\n",
    "        'FullBath':np.float,\n",
    "        'HalfBath':np.float,\n",
    "        'BedroomAbvGr':np.float,\n",
    "#        'KitchenAbvGr':np.float,\n",
    "        'TotRmsAbvGrd':np.float,\n",
    "#        'Fireplaces':np.float,\n",
    "#        'GarageCars':np.float,\n",
    "#        'GarageArea':np.float,\n",
    "#        'WoodDeckSF':np.float,\n",
    "#        'OpenPorchSF':np.float,\n",
    "#        'EnclosedPorch':np.float,\n",
    "#        '3SsnPorch':np.float,\n",
    "#        'ScreenPorch':np.float,\n",
    "#        'PoolArea':np.float,\n",
    "        'MiscVal':np.float,\n",
    "        'OverallQual':np.float,\n",
    "        'OverallCond':np.float,\n",
    "        'AgeWhenSold':np.float}"
   ]
  },
  {
   "cell_type": "code",
   "execution_count": 6,
   "metadata": {
    "collapsed": true,
    "scrolled": true
   },
   "outputs": [],
   "source": [
    "mm=len(full_data['LotArea']) \n",
    "full_data['AgeWhenSold'] = full_data['YrSold']-full_data['YearBuilt']"
   ]
  },
  {
   "cell_type": "markdown",
   "metadata": {},
   "source": [
    "Add the numerical categories to New DataFrame"
   ]
  },
  {
   "cell_type": "code",
   "execution_count": 7,
   "metadata": {
    "collapsed": true
   },
   "outputs": [],
   "source": [
    "indx_dict={}\n",
    "#del flat_data1\n",
    "flat_data1=pd.DataFrame(data=0.0,index=xrange(0,mm),columns=['LotArea'] )\n",
    "flat_data1['LotArea']=full_data['LotArea']\n",
    "indx_dict['LotArea'] = 0\n",
    "for x in num_dict:\n",
    "    flat_data1[x] = full_data[x]\n",
    "i_count=np.int(1)\n",
    "for x in num_dict:\n",
    "    indx_dict[x]=i_count\n",
    "    i_count=i_count+1"
   ]
  },
  {
   "cell_type": "markdown",
   "metadata": {
    "collapsed": true,
    "scrolled": true
   },
   "source": [
    "This is where I one hot encode the categorical features"
   ]
  },
  {
   "cell_type": "code",
   "execution_count": 8,
   "metadata": {
    "collapsed": true,
    "scrolled": true
   },
   "outputs": [],
   "source": [
    "i_count=len(indx_dict)\n",
    "for x in categ_dict:\n",
    "    s=full_data[x][:]\n",
    "    c=s.unique()\n",
    "    for i in range(0,len(c)):\n",
    "        # This IF removes MSSUBCLASS_150 and nan from all features\n",
    "        if ( (str(c[i]) != 'nan') and (str(c[i])!= '150') ): \n",
    "            v = str(x) + '_' + str(c[i])\n",
    "            #print(v)\n",
    "            indx_dict[v]=i_count\n",
    "            i_count=i_count+1\n",
    "            flat_data2=pd.DataFrame(data=0.0,index=xrange(0,mm),columns=[v] )\n",
    "            flat_data2\n",
    "            for j in range(0,mm):\n",
    "                if full_data[x][j] == c[i]:\n",
    "                    flat_data2[v][j] = 1.0\n",
    "                else:\n",
    "                    flat_data2[v][j] = 0.0\n",
    "            flat_data1[v]=flat_data2\n",
    "            del flat_data2"
   ]
  },
  {
   "cell_type": "code",
   "execution_count": 17,
   "metadata": {
    "collapsed": true
   },
   "outputs": [],
   "source": [
    "def polynomial_df(df_single, x_dict, feature, degree):\n",
    "    # assume that degree >= 1\n",
    "    # and set poly_sframe['power_1'] equal to the passed feature\n",
    "    # first check if degree > 1\n",
    "    mm = len(x_dict)\n",
    "    if degree > 1:\n",
    "        # then loop over the remaining degrees:\n",
    "        # range usually starts at 0 and stops at the endpoint-1. We want it to start at 2 and stop at degree\n",
    "        for power in range(2, degree+1): \n",
    "            # first we'll give the column a name:\n",
    "            name = feature+'_p' + str(power)\n",
    "            x_dict[name]= mm + power-2\n",
    "            print (name, x_dict[name])\n",
    "            # then assign poly_sframe[name] to the appropriate power of feature\n",
    "            df_single[name] = df_single[feature].apply(lambda x: x**power)\n",
    "    return "
   ]
  },
  {
   "cell_type": "markdown",
   "metadata": {},
   "source": [
    " Plot the K-fold cross validation error amd training error for different models to check if over fitting occured. For each of these models I need to use L2 regularization. I will set the L2 penalty to be 8.0\n",
    " --"
   ]
  },
  {
   "cell_type": "code",
   "execution_count": 18,
   "metadata": {
    "collapsed": true
   },
   "outputs": [],
   "source": [
    "def run_model(train_data, train_labels, inx_dict,error):\n",
    "    n = len(train_data)\n",
    "    k = 10 # 10-fold cross-validation\n",
    "    k_size = int(n/k)\n",
    "    b=len(inx_dict)\n",
    "    x_train = np.zeros((n-k_size,b))\n",
    "    x_test =  np.zeros((k_size,b))\n",
    "    y_train = np.zeros(n-k_size)\n",
    "    y_test =  np.zeros(k_size)\n",
    "    train_error = np.float(0.0) # np.zeros(30)\n",
    "    l2=10.0\n",
    "\n",
    "    k_err=0.0\n",
    "    for i in range(k-1):\n",
    "        i+=1\n",
    "        start = (n*i)/k\n",
    "        end = (n*(i+1))/k-1\n",
    "        if (k > 0 ):\n",
    "            x_train[0:start-1][:] = train_data[0:start-1][:]\n",
    "            x_train[start:n-k_size][:] = train_data[end+1:n][:]\n",
    "            x_test[0:k_size][:] = train_data[start:end+1][:]\n",
    "            y_train[0:start-1] = train_labels[0:start-1]\n",
    "            y_train[start:n-k_size] = train_labels[end+1:n]\n",
    "            y_test[0:k_size] = train_labels[start:end+1]\n",
    "        else:\n",
    "            x_train[0:n-k_size][:] = train_data[k_size:n][:]\n",
    "            x_test[0:k_size][:] = train_data[0:k_size][:]\n",
    "            y_train[0:n-k_size] = train_labels[k_size:n]\n",
    "            y_test[0:k_size] = train_labels[0:k_size]\n",
    "            # Create linear regression object\n",
    "            #regr = linear_model.LinearRegression()     \n",
    "        regr = linear_model.Ridge (alpha = l2)\n",
    "        # Train the model using the training sets\n",
    "        regr.fit(x_train, y_train)\n",
    "        y_predict = regr.predict(x_test)\n",
    "        k_err += mean_squared_error(y_test, y_predict)/float(k) \n",
    "\n",
    "    regr = linear_model.Ridge (alpha = l2)\n",
    "    # Train the model using the training sets\n",
    "    regr.fit(train_data, train_labels)\n",
    "    y_predict = regr.predict(train_data)\n",
    "    train_error = mean_squared_error(train_labels, y_predict)\n",
    "    print(train_error, k_err)\n",
    "    error[0] = np.float(train_error)\n",
    "    error[1] = k_err\n",
    "    return "
   ]
  },
  {
   "cell_type": "code",
   "execution_count": 20,
   "metadata": {
    "scrolled": true
   },
   "outputs": [
    {
     "name": "stdout",
     "output_type": "stream",
     "text": [
      "6304148488.67 5844951206.46\n",
      "1\n",
      "6296213389.77 5841188484.32\n",
      "2\n",
      "6070335800.91 5628510972.77\n",
      "3\n",
      "6067502633.8 5627685168.74\n",
      "4\n",
      "6065609233.64 5632552436.32\n",
      "5\n",
      "6058361939.74 5632413864.23\n",
      "6\n",
      "6058145231.44 5636882312.4\n",
      "7\n",
      "5893504878.64 5488856155.53\n",
      "8\n",
      "5805133989.2 5409946781.48\n",
      "9\n",
      "5804160817.65 5414670463.89\n",
      "10\n",
      "5220109338.84 4863021737.55\n",
      "11\n",
      "5151421766.16 4808732621.19\n",
      "12\n",
      "5149804713.16 4808387063.71\n",
      "13\n",
      "3818189000.01 3575304825.82\n",
      "14\n",
      "3816637965.68 3574186273.02\n",
      "15\n",
      "3802652447.16 3564096160.13\n",
      "16\n",
      "3780917477.2 3544680161.38\n",
      "17\n",
      "3780365289.59 3544407958.97\n",
      "18\n",
      "3761803419.76 3530724715.83\n",
      "19\n",
      "3686676253.59 3463029405.72\n",
      "20\n",
      "3686654073.58 3466840298.87\n",
      "21\n",
      "3677244816.58 3460722088.87\n",
      "22\n",
      "3665472088.66 3453963966.95\n",
      "23\n",
      "3664231394.26 3455463771.06\n",
      "24\n",
      "3662157111.37 3455406917.58\n",
      "25\n",
      "3304077886.21 3140750329.83\n",
      "26\n",
      "3303408544.04 3145703835.08\n",
      "27\n",
      "3302946049.41 3146383973.66\n",
      "28\n",
      "3231362135.44 3077284593.23\n",
      "29\n",
      "3226713888.42 3072907938.36\n",
      "30\n",
      "3226592917.96 3076997144.34\n",
      "31\n",
      "1912410064.67 1838899925.77\n",
      "32\n",
      "1890540430.57 1815701735.44\n",
      "33\n",
      "1852259454.15 1783044303.89\n",
      "34\n",
      "1847938265.36 1779885483.85\n",
      "35\n",
      "1680835725.7 1629051533.22\n",
      "36\n",
      "1679326658.14 1630226119.01\n",
      "37\n",
      "1664313740.95 1616502004.85\n",
      "38\n",
      "1630904987.92 1586812481.14\n",
      "39\n",
      "1627315429.14 1585115300.41\n",
      "40\n",
      "1627245997.13 1587809645.7\n",
      "41\n",
      "1624754106.08 1586152042.91\n",
      "42\n",
      "1575004409.9 1539262106.7\n",
      "43\n",
      "1573249181.23 1538140495.83\n",
      "44\n",
      "1487433691.22 1478871414.65\n",
      "45\n",
      "1475911612.47 1466543455.53\n",
      "46\n",
      "1475368230.06 1466151341.45\n",
      "47\n",
      "1270631492.82 1296258103.06\n",
      "48\n",
      "1265700246.11 1293362175.86\n",
      "49\n",
      "1265545398.32 1293317954.58\n",
      "50\n",
      "1243414496.5 1271195900.84\n",
      "51\n",
      "1243413961.2 1271309819.79\n",
      "52\n",
      "1243401028.73 1273424613.49\n",
      "53\n",
      "1227230564.87 1261510390.72\n",
      "54\n",
      "1222331269.77 1257716506.71\n",
      "55\n",
      "1215356269.07 1251651379.35\n",
      "56\n",
      "1186428799.96 1228225536.42\n",
      "57\n",
      "1179771678.88 1223056261.94\n",
      "58\n",
      "1169448013.6 1213312873.11\n",
      "59\n",
      "1161102080.85 1205470564.21\n",
      "60\n",
      "1160061803.86 1205687037.24\n",
      "61\n",
      "1159642175.48 1206193404.42\n",
      "62\n",
      "1158580126.85 1205593802.63\n",
      "63\n",
      "1158305058.2 1207754555.43\n",
      "64\n",
      "1156951754.02 1207710324.07\n",
      "65\n",
      "1155103061.28 1208557481.88\n",
      "66\n",
      "1154904467.5 1209518789.69\n",
      "67\n",
      "1154322889.06 1212229026.12\n",
      "68\n",
      "1153042890.56 1211959745.67\n",
      "69\n",
      "1151947740.18 1218783685.05\n",
      "70\n",
      "1150078168.64 1217061295.29\n",
      "71\n",
      "1149769646.81 1218298712.58\n",
      "72\n",
      "1149568807.12 1219178109.82\n",
      "73\n",
      "1149066407.57 1220190548.98\n",
      "74\n",
      "1149089446.41 1221924358.55\n",
      "75\n",
      "1141954014.98 1213482846.85\n",
      "76\n",
      "1142003379.08 1214538688.78\n",
      "77\n",
      "1141687924.65 1215075516.02\n",
      "78\n",
      "1141899320.19 1216091910.14\n",
      "79\n",
      "1140602823.81 1216154061.37\n",
      "80\n",
      "1140843381.89 1216391900.67\n",
      "81\n",
      "1140861609.3 1216872624.16\n",
      "82\n",
      "1108474131.47 1186965954.23\n",
      "83\n",
      "1085689991.41 1167170012.46\n",
      "84\n",
      "1084356700.71 1167020874.7\n",
      "85\n",
      "1033486477.17 1115368340.12\n",
      "86\n",
      "1033485636.27 1116600863.33\n",
      "87\n"
     ]
    }
   ],
   "source": [
    "flat_data_c = pd.DataFrame()\n",
    "indx_dict_c = {}\n",
    "b=len(indx_dict)\n",
    "err=np.zeros((b,2))\n",
    "errp = np.zeros(2)\n",
    "xctr= 0 \n",
    "for x in indx_dict:\n",
    "    flat_data_c[x] = flat_data1[x]\n",
    "    #print(flat_data_c)\n",
    "    indx_dict_c[x] = indx_dict[x]\n",
    "    if x in num_dict:\n",
    "        polynomial_df(flat_data_c,indx_dict_c,x,1)\n",
    "    #Creating a numpy array to input into the regression subroutine\n",
    "    a=len(full_data['LotArea'])\n",
    "    b=len(indx_dict_c)\n",
    "    train_data = np.zeros((a,b))\n",
    "    countr=0\n",
    "    for v in indx_dict_c:\n",
    "        #m=indx_dict_c[v]\n",
    "        #print(m, x)\n",
    "        train_data[:,countr]=flat_data_c[v]\n",
    "        countr+=1\n",
    "    train_labels = np.zeros(a)\n",
    "    train_labels[:] = full_data['SalePrice'][:]\n",
    "    # run the given model \n",
    "    run_model(train_data,train_labels,indx_dict_c,errp)\n",
    "    err[xctr][0] = errp[0]\n",
    "    err[xctr][1] = errp[1]\n",
    "    xctr+=1\n",
    "    print( xctr )\n",
    "   "
   ]
  },
  {
   "cell_type": "markdown",
   "metadata": {
    "collapsed": true
   },
   "source": [
    "The validation error is increasing meaning that the model is already over fit\n",
    "--"
   ]
  },
  {
   "cell_type": "code",
   "execution_count": 21,
   "metadata": {},
   "outputs": [
    {
     "data": {
      "image/png": "[encoded data removed]",
      "text/plain": [
       "<matplotlib.figure.Figure at 0x7fe3f5540750>"
      ]
     },
     "metadata": {},
     "output_type": "display_data"
    }
   ],
   "source": [
    "t = np.arange(0,87)\n",
    "plt.plot(t,err[:,1])\n",
    "plt.plot(t,err[:,0])\n",
    "#plt.yscale('log')\n",
    "#plt.xscale('log')\n",
    "#plt.ylim(0.99e9,1.05e9)\n",
    "plt.show()"
   ]
  },
  {
   "cell_type": "markdown",
   "metadata": {},
   "source": [
    "try with out categorical data, maybe this is over fitting\n",
    "---"
   ]
  },
  {
   "cell_type": "code",
   "execution_count": null,
   "metadata": {
    "collapsed": true
   },
   "outputs": [],
   "source": []
  }
 ],
 "metadata": {
  "colab": {
   "default_view": {},
   "name": "2_fullyconnected.ipynb",
   "provenance": [],
   "version": "0.3.2",
   "views": {}
  },
  "kernelspec": {
   "display_name": "Python 2",
   "language": "python",
   "name": "python2"
  },
  "language_info": {
   "codemirror_mode": {
    "name": "ipython",
    "version": 2
   },
   "file_extension": ".py",
   "mimetype": "text/x-python",
   "name": "python",
   "nbconvert_exporter": "python",
   "pygments_lexer": "ipython2",
   "version": "2.7.13"
  }
 },
 "nbformat": 4,
 "nbformat_minor": 1
}
